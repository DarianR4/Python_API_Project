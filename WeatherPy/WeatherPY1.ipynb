{
 "cells": [
  {
   "cell_type": "code",
   "execution_count": 1,
   "metadata": {},
   "outputs": [],
   "source": [
    "\n",
    "# Dependencies\n",
    "import requests\n",
    "import json\n",
    "import numpy as np\n",
    "import time\n",
    "import matplotlib.pyplot as plt\n",
    "from scipy.stats import linregress\n",
    "import pandas as pd\n",
    "from wconfig import apikey\n",
    "from citipy import citipy\n",
    "\n",
    "#Output File\n",
    "output_data_file = \"output_data/cities.csv\"\n",
    "\n",
    "# Range of latitudes and longitudes\n",
    "lat_range = (-90, 90)\n",
    "lng_range = (-180, 180)"
   ]
  },
  {
   "cell_type": "markdown",
   "metadata": {},
   "source": [
    "# Generate Cities List"
   ]
  },
  {
   "cell_type": "code",
   "execution_count": 2,
   "metadata": {},
   "outputs": [
    {
     "data": {
      "text/plain": [
       "647"
      ]
     },
     "execution_count": 2,
     "metadata": {},
     "output_type": "execute_result"
    }
   ],
   "source": [
    "# List for holding lat_lngs and cities\n",
    "lat_lngs = []\n",
    "cities = []\n",
    "\n",
    "\n",
    "# Create a set of random lat and lng combinations\n",
    "lats = np.random.uniform(lat_range[0], lat_range[1], size=1500)\n",
    "lngs = np.random.uniform(lng_range[0], lng_range[1], size=1500)\n",
    "lat_lngs = zip(lats, lngs)\n",
    "\n",
    "# Identify nearest city for each lat, lng combination\n",
    "for lat_lng in lat_lngs:\n",
    "    city = citipy.nearest_city(lat_lng[0], lat_lng[1]).city_name\n",
    "    \n",
    "    \n",
    "    # If the city is unique, then add it to a our cities list\n",
    "    if city not in cities:\n",
    "        cities.append(city)\n",
    "\n",
    "# Print the city count to confirm sufficient count\n",
    "len(cities)\n"
   ]
  },
  {
   "cell_type": "code",
   "execution_count": 35,
   "metadata": {
    "scrolled": true
   },
   "outputs": [
    {
     "name": "stdout",
     "output_type": "stream",
     "text": [
      "Processing | huai yot\n",
      "Processing | buala\n",
      "Processing | bluff\n",
      "Processing | codrington\n",
      "Processing | busselton\n",
      "Processing | port alfred\n",
      "Processing | teknaf\n",
      "Processing | dingle\n",
      "Processing | touros\n",
      "Processing | rikitea\n",
      "Processing | samusu\n",
      "Processing | tsihombe\n",
      "Processing | chuy\n",
      "Processing | vaini\n",
      "Processing | lebu\n",
      "Processing | avarua\n",
      "Processing | albany\n",
      "Processing | sobolevo\n",
      "Processing | mataura\n",
      "Processing | hargeysa\n"
     ]
    }
   ],
   "source": [
    " #Set up weathermap request\n",
    "# apikey = \"\"\n",
    "lats = []\n",
    "lngs = []\n",
    "max_temps = []\n",
    "humidities = []\n",
    "cloudiness = []\n",
    "wind_speeds = []\n",
    "countries = [] \n",
    "dates = []\n",
    "url = \"http://api.openweathermap.org/data/2.5/weather?units=Imperial&APPID=\" + apikey\n",
    "\n",
    "weather = []\n",
    "for city in cities[0:20]:\n",
    "#save website information\n",
    "\n",
    "    try:\n",
    "        weatherquery_url = url + \"&q=\" + city.replace(\" \",\"+\")\n",
    "\n",
    "        weather_response = requests.get(weatherquery_url).json()\n",
    "\n",
    "        print(f'Processing | {city}')\n",
    "        weather.append(weather_response)\n",
    "        lats.append(weather_response['coord']['lat'])\n",
    "        lngs.append(weather_response['coord']['lon'])\n",
    "        max_temps.append(weather_response['main']['temp_max'])\n",
    "        humidities.append(weather_response['main']['humidity'])\n",
    "        cloudiness.append(weather_response['clouds']['all'])\n",
    "        wind_speeds.append(weather_response['wind']['speed'])\n",
    "        countries.append(weather_response['sys']['country'])\n",
    "        dates.append(weather_response['dt'])\n",
    "    except:\n",
    "        pass"
   ]
  },
  {
   "cell_type": "code",
   "execution_count": 36,
   "metadata": {},
   "outputs": [
    {
     "data": {
      "text/plain": [
       "{'coord': {'lon': 44.065, 'lat': 9.56},\n",
       " 'weather': [{'id': 501,\n",
       "   'main': 'Rain',\n",
       "   'description': 'moderate rain',\n",
       "   'icon': '10n'}],\n",
       " 'base': 'stations',\n",
       " 'main': {'temp': 66.61,\n",
       "  'feels_like': 67.01,\n",
       "  'temp_min': 66.61,\n",
       "  'temp_max': 66.61,\n",
       "  'pressure': 1012,\n",
       "  'humidity': 86,\n",
       "  'sea_level': 1012,\n",
       "  'grnd_level': 875},\n",
       " 'visibility': 10000,\n",
       " 'wind': {'speed': 13.58, 'deg': 173, 'gust': 18.57},\n",
       " 'rain': {'1h': 1.97},\n",
       " 'clouds': {'all': 100},\n",
       " 'dt': 1619393408,\n",
       " 'sys': {'country': 'SO', 'sunrise': 1619405317, 'sunset': 1619450049},\n",
       " 'timezone': 10800,\n",
       " 'id': 57289,\n",
       " 'name': 'Hargeisa',\n",
       " 'cod': 200}"
      ]
     },
     "execution_count": 36,
     "metadata": {},
     "output_type": "execute_result"
    }
   ],
   "source": [
    "weather_response"
   ]
  },
  {
   "cell_type": "code",
   "execution_count": 38,
   "metadata": {},
   "outputs": [
    {
     "data": {
      "text/plain": [
       "[1.92,\n",
       " 0.2,\n",
       " 10,\n",
       " 5.21,\n",
       " 4.29,\n",
       " 11.83,\n",
       " 2.35,\n",
       " 3.83,\n",
       " 6.91,\n",
       " 7.78,\n",
       " 12.59,\n",
       " 6.91,\n",
       " 9.91,\n",
       " 12.66,\n",
       " 14.23,\n",
       " 7.58,\n",
       " 11.01,\n",
       " 13.58]"
      ]
     },
     "execution_count": 38,
     "metadata": {},
     "output_type": "execute_result"
    }
   ],
   "source": [
    "wind_speeds"
   ]
  },
  {
   "cell_type": "code",
   "execution_count": 55,
   "metadata": {},
   "outputs": [],
   "source": [
    "# # create a data frame from cities toe xport into .csv file\n",
    "weather_df = pd.DataFrame({\n",
    "    \n",
    "    \"Latitudes\":lats,\n",
    "    \"Longitudes\":lngs,\n",
    "    \"Max Temp\" : max_temps,\n",
    "    \"Humidity\" : humidities,\n",
    "    \"Cloudiness\" : cloudiness,\n",
    "    \"Wind Speed\" : wind_speeds,\n",
    "    \"Country\" : countries,\n",
    "    \"Dates\" : dates\n",
    "    \n",
    "})\n",
    " \n",
    "# Create the output File (CSV)\n",
    "output_data_file = \"../WeatherPY/WeatherPy_Database.csv\"\n",
    "\n",
    "# Export the city_data into a csv\n",
    "weather_df.to_csv(output_data_file, index_label=\"City_ID\")\n"
   ]
  },
  {
   "cell_type": "code",
   "execution_count": 56,
   "metadata": {
    "scrolled": true
   },
   "outputs": [
    {
     "data": {
      "text/html": [
       "<div>\n",
       "<style scoped>\n",
       "    .dataframe tbody tr th:only-of-type {\n",
       "        vertical-align: middle;\n",
       "    }\n",
       "\n",
       "    .dataframe tbody tr th {\n",
       "        vertical-align: top;\n",
       "    }\n",
       "\n",
       "    .dataframe thead th {\n",
       "        text-align: right;\n",
       "    }\n",
       "</style>\n",
       "<table border=\"1\" class=\"dataframe\">\n",
       "  <thead>\n",
       "    <tr style=\"text-align: right;\">\n",
       "      <th></th>\n",
       "      <th>Latitudes</th>\n",
       "      <th>Longitudes</th>\n",
       "      <th>Max Temp</th>\n",
       "      <th>Humidity</th>\n",
       "      <th>Cloudiness</th>\n",
       "      <th>Wind Speed</th>\n",
       "      <th>Country</th>\n",
       "      <th>Dates</th>\n",
       "    </tr>\n",
       "  </thead>\n",
       "  <tbody>\n",
       "    <tr>\n",
       "      <th>0</th>\n",
       "      <td>7.7893</td>\n",
       "      <td>99.6348</td>\n",
       "      <td>75.20</td>\n",
       "      <td>100</td>\n",
       "      <td>40</td>\n",
       "      <td>1.92</td>\n",
       "      <td>TH</td>\n",
       "      <td>1619393405</td>\n",
       "    </tr>\n",
       "    <tr>\n",
       "      <th>1</th>\n",
       "      <td>-8.1450</td>\n",
       "      <td>159.5921</td>\n",
       "      <td>85.73</td>\n",
       "      <td>69</td>\n",
       "      <td>23</td>\n",
       "      <td>0.20</td>\n",
       "      <td>SB</td>\n",
       "      <td>1619393405</td>\n",
       "    </tr>\n",
       "    <tr>\n",
       "      <th>2</th>\n",
       "      <td>-46.6000</td>\n",
       "      <td>168.3333</td>\n",
       "      <td>46.99</td>\n",
       "      <td>88</td>\n",
       "      <td>82</td>\n",
       "      <td>10.00</td>\n",
       "      <td>NZ</td>\n",
       "      <td>1619393405</td>\n",
       "    </tr>\n",
       "    <tr>\n",
       "      <th>3</th>\n",
       "      <td>-38.2667</td>\n",
       "      <td>141.9667</td>\n",
       "      <td>58.37</td>\n",
       "      <td>71</td>\n",
       "      <td>100</td>\n",
       "      <td>5.21</td>\n",
       "      <td>AU</td>\n",
       "      <td>1619393158</td>\n",
       "    </tr>\n",
       "    <tr>\n",
       "      <th>4</th>\n",
       "      <td>-33.6500</td>\n",
       "      <td>115.3333</td>\n",
       "      <td>51.01</td>\n",
       "      <td>98</td>\n",
       "      <td>100</td>\n",
       "      <td>4.29</td>\n",
       "      <td>AU</td>\n",
       "      <td>1619393406</td>\n",
       "    </tr>\n",
       "  </tbody>\n",
       "</table>\n",
       "</div>"
      ],
      "text/plain": [
       "   Latitudes  Longitudes  Max Temp  Humidity  Cloudiness  Wind Speed Country  \\\n",
       "0     7.7893     99.6348     75.20       100          40        1.92      TH   \n",
       "1    -8.1450    159.5921     85.73        69          23        0.20      SB   \n",
       "2   -46.6000    168.3333     46.99        88          82       10.00      NZ   \n",
       "3   -38.2667    141.9667     58.37        71         100        5.21      AU   \n",
       "4   -33.6500    115.3333     51.01        98         100        4.29      AU   \n",
       "\n",
       "        Dates  \n",
       "0  1619393405  \n",
       "1  1619393405  \n",
       "2  1619393405  \n",
       "3  1619393158  \n",
       "4  1619393406  "
      ]
     },
     "execution_count": 56,
     "metadata": {},
     "output_type": "execute_result"
    }
   ],
   "source": [
    "# display the new a created dataframe the 500+ randon cities within our lats and longs.  \n",
    "weather_df.head()"
   ]
  },
  {
   "cell_type": "code",
   "execution_count": 76,
   "metadata": {},
   "outputs": [
    {
     "data": {
      "text/html": [
       "<div>\n",
       "<style scoped>\n",
       "    .dataframe tbody tr th:only-of-type {\n",
       "        vertical-align: middle;\n",
       "    }\n",
       "\n",
       "    .dataframe tbody tr th {\n",
       "        vertical-align: top;\n",
       "    }\n",
       "\n",
       "    .dataframe thead th {\n",
       "        text-align: right;\n",
       "    }\n",
       "</style>\n",
       "<table border=\"1\" class=\"dataframe\">\n",
       "  <thead>\n",
       "    <tr style=\"text-align: right;\">\n",
       "      <th></th>\n",
       "      <th>Latitudes</th>\n",
       "      <th>Longitudes</th>\n",
       "      <th>Max Temp</th>\n",
       "      <th>Humidity</th>\n",
       "      <th>Cloudiness</th>\n",
       "      <th>Wind Speed</th>\n",
       "      <th>Country</th>\n",
       "      <th>Dates</th>\n",
       "    </tr>\n",
       "  </thead>\n",
       "  <tbody>\n",
       "    <tr>\n",
       "      <th>0</th>\n",
       "      <td>7.7893</td>\n",
       "      <td>99.6348</td>\n",
       "      <td>75.20</td>\n",
       "      <td>100</td>\n",
       "      <td>40</td>\n",
       "      <td>1.92</td>\n",
       "      <td>TH</td>\n",
       "      <td>1619393405</td>\n",
       "    </tr>\n",
       "    <tr>\n",
       "      <th>1</th>\n",
       "      <td>-8.1450</td>\n",
       "      <td>159.5921</td>\n",
       "      <td>85.73</td>\n",
       "      <td>69</td>\n",
       "      <td>23</td>\n",
       "      <td>0.20</td>\n",
       "      <td>SB</td>\n",
       "      <td>1619393405</td>\n",
       "    </tr>\n",
       "    <tr>\n",
       "      <th>2</th>\n",
       "      <td>-46.6000</td>\n",
       "      <td>168.3333</td>\n",
       "      <td>46.99</td>\n",
       "      <td>88</td>\n",
       "      <td>82</td>\n",
       "      <td>10.00</td>\n",
       "      <td>NZ</td>\n",
       "      <td>1619393405</td>\n",
       "    </tr>\n",
       "    <tr>\n",
       "      <th>3</th>\n",
       "      <td>-38.2667</td>\n",
       "      <td>141.9667</td>\n",
       "      <td>58.37</td>\n",
       "      <td>71</td>\n",
       "      <td>100</td>\n",
       "      <td>5.21</td>\n",
       "      <td>AU</td>\n",
       "      <td>1619393158</td>\n",
       "    </tr>\n",
       "    <tr>\n",
       "      <th>4</th>\n",
       "      <td>-33.6500</td>\n",
       "      <td>115.3333</td>\n",
       "      <td>51.01</td>\n",
       "      <td>98</td>\n",
       "      <td>100</td>\n",
       "      <td>4.29</td>\n",
       "      <td>AU</td>\n",
       "      <td>1619393406</td>\n",
       "    </tr>\n",
       "    <tr>\n",
       "      <th>5</th>\n",
       "      <td>-33.5906</td>\n",
       "      <td>26.8910</td>\n",
       "      <td>70.63</td>\n",
       "      <td>56</td>\n",
       "      <td>100</td>\n",
       "      <td>11.83</td>\n",
       "      <td>ZA</td>\n",
       "      <td>1619393406</td>\n",
       "    </tr>\n",
       "    <tr>\n",
       "      <th>6</th>\n",
       "      <td>20.8624</td>\n",
       "      <td>92.3058</td>\n",
       "      <td>77.25</td>\n",
       "      <td>86</td>\n",
       "      <td>4</td>\n",
       "      <td>2.35</td>\n",
       "      <td>BD</td>\n",
       "      <td>1619393406</td>\n",
       "    </tr>\n",
       "    <tr>\n",
       "      <th>7</th>\n",
       "      <td>10.9995</td>\n",
       "      <td>122.6711</td>\n",
       "      <td>82.51</td>\n",
       "      <td>70</td>\n",
       "      <td>46</td>\n",
       "      <td>3.83</td>\n",
       "      <td>PH</td>\n",
       "      <td>1619393406</td>\n",
       "    </tr>\n",
       "    <tr>\n",
       "      <th>8</th>\n",
       "      <td>-5.1989</td>\n",
       "      <td>-35.4608</td>\n",
       "      <td>78.80</td>\n",
       "      <td>83</td>\n",
       "      <td>20</td>\n",
       "      <td>6.91</td>\n",
       "      <td>BR</td>\n",
       "      <td>1619393168</td>\n",
       "    </tr>\n",
       "    <tr>\n",
       "      <th>9</th>\n",
       "      <td>-23.1203</td>\n",
       "      <td>-134.9692</td>\n",
       "      <td>78.24</td>\n",
       "      <td>74</td>\n",
       "      <td>98</td>\n",
       "      <td>7.78</td>\n",
       "      <td>PF</td>\n",
       "      <td>1619393262</td>\n",
       "    </tr>\n",
       "    <tr>\n",
       "      <th>10</th>\n",
       "      <td>-33.6971</td>\n",
       "      <td>-53.4616</td>\n",
       "      <td>63.48</td>\n",
       "      <td>71</td>\n",
       "      <td>95</td>\n",
       "      <td>12.59</td>\n",
       "      <td>UY</td>\n",
       "      <td>1619393141</td>\n",
       "    </tr>\n",
       "    <tr>\n",
       "      <th>11</th>\n",
       "      <td>-21.2000</td>\n",
       "      <td>-175.2000</td>\n",
       "      <td>80.60</td>\n",
       "      <td>83</td>\n",
       "      <td>75</td>\n",
       "      <td>6.91</td>\n",
       "      <td>TO</td>\n",
       "      <td>1619393407</td>\n",
       "    </tr>\n",
       "    <tr>\n",
       "      <th>12</th>\n",
       "      <td>-37.6167</td>\n",
       "      <td>-73.6500</td>\n",
       "      <td>55.31</td>\n",
       "      <td>91</td>\n",
       "      <td>1</td>\n",
       "      <td>9.91</td>\n",
       "      <td>CL</td>\n",
       "      <td>1619393407</td>\n",
       "    </tr>\n",
       "    <tr>\n",
       "      <th>13</th>\n",
       "      <td>-21.2078</td>\n",
       "      <td>-159.7750</td>\n",
       "      <td>82.40</td>\n",
       "      <td>78</td>\n",
       "      <td>75</td>\n",
       "      <td>12.66</td>\n",
       "      <td>CK</td>\n",
       "      <td>1619393170</td>\n",
       "    </tr>\n",
       "    <tr>\n",
       "      <th>14</th>\n",
       "      <td>42.6001</td>\n",
       "      <td>-73.9662</td>\n",
       "      <td>57.00</td>\n",
       "      <td>51</td>\n",
       "      <td>78</td>\n",
       "      <td>14.23</td>\n",
       "      <td>US</td>\n",
       "      <td>1619393397</td>\n",
       "    </tr>\n",
       "    <tr>\n",
       "      <th>15</th>\n",
       "      <td>54.4299</td>\n",
       "      <td>31.8996</td>\n",
       "      <td>30.38</td>\n",
       "      <td>82</td>\n",
       "      <td>13</td>\n",
       "      <td>7.58</td>\n",
       "      <td>RU</td>\n",
       "      <td>1619393353</td>\n",
       "    </tr>\n",
       "    <tr>\n",
       "      <th>16</th>\n",
       "      <td>-46.1927</td>\n",
       "      <td>168.8643</td>\n",
       "      <td>48.00</td>\n",
       "      <td>89</td>\n",
       "      <td>74</td>\n",
       "      <td>11.01</td>\n",
       "      <td>NZ</td>\n",
       "      <td>1619393408</td>\n",
       "    </tr>\n",
       "    <tr>\n",
       "      <th>17</th>\n",
       "      <td>9.5600</td>\n",
       "      <td>44.0650</td>\n",
       "      <td>66.61</td>\n",
       "      <td>86</td>\n",
       "      <td>100</td>\n",
       "      <td>13.58</td>\n",
       "      <td>SO</td>\n",
       "      <td>1619393408</td>\n",
       "    </tr>\n",
       "  </tbody>\n",
       "</table>\n",
       "</div>"
      ],
      "text/plain": [
       "    Latitudes  Longitudes  Max Temp  Humidity  Cloudiness  Wind Speed Country  \\\n",
       "0      7.7893     99.6348     75.20       100          40        1.92      TH   \n",
       "1     -8.1450    159.5921     85.73        69          23        0.20      SB   \n",
       "2    -46.6000    168.3333     46.99        88          82       10.00      NZ   \n",
       "3    -38.2667    141.9667     58.37        71         100        5.21      AU   \n",
       "4    -33.6500    115.3333     51.01        98         100        4.29      AU   \n",
       "5    -33.5906     26.8910     70.63        56         100       11.83      ZA   \n",
       "6     20.8624     92.3058     77.25        86           4        2.35      BD   \n",
       "7     10.9995    122.6711     82.51        70          46        3.83      PH   \n",
       "8     -5.1989    -35.4608     78.80        83          20        6.91      BR   \n",
       "9    -23.1203   -134.9692     78.24        74          98        7.78      PF   \n",
       "10   -33.6971    -53.4616     63.48        71          95       12.59      UY   \n",
       "11   -21.2000   -175.2000     80.60        83          75        6.91      TO   \n",
       "12   -37.6167    -73.6500     55.31        91           1        9.91      CL   \n",
       "13   -21.2078   -159.7750     82.40        78          75       12.66      CK   \n",
       "14    42.6001    -73.9662     57.00        51          78       14.23      US   \n",
       "15    54.4299     31.8996     30.38        82          13        7.58      RU   \n",
       "16   -46.1927    168.8643     48.00        89          74       11.01      NZ   \n",
       "17     9.5600     44.0650     66.61        86         100       13.58      SO   \n",
       "\n",
       "         Dates  \n",
       "0   1619393405  \n",
       "1   1619393405  \n",
       "2   1619393405  \n",
       "3   1619393158  \n",
       "4   1619393406  \n",
       "5   1619393406  \n",
       "6   1619393406  \n",
       "7   1619393406  \n",
       "8   1619393168  \n",
       "9   1619393262  \n",
       "10  1619393141  \n",
       "11  1619393407  \n",
       "12  1619393407  \n",
       "13  1619393170  \n",
       "14  1619393397  \n",
       "15  1619393353  \n",
       "16  1619393408  \n",
       "17  1619393408  "
      ]
     },
     "execution_count": 76,
     "metadata": {},
     "output_type": "execute_result"
    }
   ],
   "source": [
    "# Here's the cleaned df for use going forward - it removed all the rows of cities\n",
    "# with 100+ values in the \"humidity\" column\n",
    "\n",
    "clean_weather_df = weather_df.drop(weather_df[weather_df.Humidity > 100].index)\n",
    "clean_weather_df"
   ]
  },
  {
   "cell_type": "code",
   "execution_count": 83,
   "metadata": {},
   "outputs": [],
   "source": [
    "# I wanted to locate the rows where the \"humidity\" column has a value greater than \"100\" and display them\n",
    "\n",
    "high_humidity_cities = weather_df.loc[weather_df['Humidity'] > 100]\n",
    "\n"
   ]
  },
  {
   "cell_type": "code",
   "execution_count": 93,
   "metadata": {},
   "outputs": [
    {
     "data": {
      "image/png": "[encoded data removed]",
      "text/plain": [
       "<Figure size 432x288 with 1 Axes>"
      ]
     },
     "metadata": {
      "needs_background": "light"
     },
     "output_type": "display_data"
    },
    {
     "name": "stdout",
     "output_type": "stream",
     "text": [
      "Hello, this is a cool map\n"
     ]
    }
   ],
   "source": [
    "# Plotting the data: Lat vs Temp\n",
    "\n",
    "x_values = clean_weather_df['Latitudes']\n",
    "y_values = clean_weather_df['Max Temp']\n",
    "plt.scatter(x_values,y_values)\n",
    "plt.xlabel('Latitude')\n",
    "plt.ylabel('Temperature')\n",
    "plt.show()\n",
    "\n",
    "print( 'Hello, this is a cool map')"
   ]
  },
  {
   "cell_type": "code",
   "execution_count": 88,
   "metadata": {},
   "outputs": [
    {
     "data": {
      "image/png": "[encoded data removed]",
      "text/plain": [
       "<Figure size 432x288 with 1 Axes>"
      ]
     },
     "metadata": {
      "needs_background": "light"
     },
     "output_type": "display_data"
    }
   ],
   "source": [
    "# Plotting the data: Lat vs Humidity\n",
    "\n",
    "x_values = clean_weather_df['Latitudes']\n",
    "y_values = clean_weather_df['Humidity']\n",
    "plt.scatter(x_values,y_values)\n",
    "plt.xlabel('Latitude')\n",
    "plt.ylabel('Humidity')\n",
    "plt.show()\n",
    "\n",
    "print( 'Hello, this is a cool map')"
   ]
  },
  {
   "cell_type": "code",
   "execution_count": 90,
   "metadata": {},
   "outputs": [
    {
     "data": {
      "image/png": "[encoded data removed]",
      "text/plain": [
       "<Figure size 432x288 with 1 Axes>"
      ]
     },
     "metadata": {
      "needs_background": "light"
     },
     "output_type": "display_data"
    }
   ],
   "source": [
    "# Plotting the data: Lat vs Cloudiness\n",
    "\n",
    "x_values = clean_weather_df['Latitudes']\n",
    "y_values = clean_weather_df['Cloudiness']\n",
    "plt.scatter(x_values,y_values)\n",
    "plt.xlabel('Latitude')\n",
    "plt.ylabel('Cloudiness')\n",
    "plt.show()\n",
    "\n",
    "print( 'Hello, this is a cool map')"
   ]
  },
  {
   "cell_type": "code",
   "execution_count": 92,
   "metadata": {},
   "outputs": [
    {
     "data": {
      "image/png": "[encoded data removed]",
      "text/plain": [
       "<Figure size 432x288 with 1 Axes>"
      ]
     },
     "metadata": {
      "needs_background": "light"
     },
     "output_type": "display_data"
    }
   ],
   "source": [
    "# Plotting the data: Lat vs Wind Speed\n",
    "\n",
    "x_values = clean_weather_df['Latitudes']\n",
    "y_values = clean_weather_df['Wind Speed']\n",
    "plt.scatter(x_values,y_values)\n",
    "plt.xlabel('Latitude')\n",
    "plt.ylabel('Wind Speed')\n",
    "plt.show()\n",
    "\n",
    "print( 'Hello, this is a cool map')"
   ]
  },
  {
   "cell_type": "code",
   "execution_count": null,
   "metadata": {},
   "outputs": [],
   "source": [
    "# Breaking up the clean data by hemisphere: northern and southern\n",
    "\n"
   ]
  },
  {
   "cell_type": "code",
   "execution_count": null,
   "metadata": {},
   "outputs": [],
   "source": []
  },
  {
   "cell_type": "code",
   "execution_count": null,
   "metadata": {},
   "outputs": [],
   "source": []
  },
  {
   "cell_type": "code",
   "execution_count": null,
   "metadata": {},
   "outputs": [],
   "source": []
  },
  {
   "cell_type": "code",
   "execution_count": 97,
   "metadata": {},
   "outputs": [
    {
     "name": "stdout",
     "output_type": "stream",
     "text": [
      "0     65.848285\n",
      "1     65.999083\n",
      "2     66.363010\n",
      "3     66.284146\n",
      "4     66.240455\n",
      "5     66.239893\n",
      "6     65.724565\n",
      "7     65.817904\n",
      "8     65.971202\n",
      "9     66.140805\n",
      "10    66.240901\n",
      "11    66.122632\n",
      "12    66.277995\n",
      "13    66.122706\n",
      "14    65.518845\n",
      "15    65.406891\n",
      "16    66.359156\n",
      "17    65.831527\n",
      "Name: Latitudes, dtype: float64\n"
     ]
    }
   ],
   "source": [
    "# Perform a linear regression on temperature vs. latitude\n",
    "from scipy import stats\n",
    "\n",
    "(slope, intercept, rvalue, pvalue, stderr) = stats.linregress(x_values, y_values)\n",
    "\n",
    "# Get regression values\n",
    "regress_values = x_values * slope + intercept\n",
    "print(regress_values)"
   ]
  },
  {
   "cell_type": "code",
   "execution_count": 98,
   "metadata": {},
   "outputs": [
    {
     "name": "stdout",
     "output_type": "stream",
     "text": [
      "y = -0.01x +65.92\n"
     ]
    }
   ],
   "source": [
    "# Create line equation string\n",
    "line_eq = \"y = \" + str(round(slope,2)) + \"x +\" + str(round(intercept,2))\n",
    "print(line_eq)"
   ]
  },
  {
   "cell_type": "code",
   "execution_count": null,
   "metadata": {},
   "outputs": [],
   "source": []
  }
 ],
 "metadata": {
  "kernelspec": {
   "display_name": "Python 3",
   "language": "python",
   "name": "python3"
  },
  "language_info": {
   "codemirror_mode": {
    "name": "ipython",
    "version": 3
   },
   "file_extension": ".py",
   "mimetype": "text/x-python",
   "name": "python",
   "nbconvert_exporter": "python",
   "pygments_lexer": "ipython3",
   "version": "3.8.5"
  }
 },
 "nbformat": 4,
 "nbformat_minor": 4
}
