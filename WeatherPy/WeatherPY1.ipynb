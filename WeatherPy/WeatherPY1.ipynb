{
 "cells": [
  {
   "cell_type": "code",
   "execution_count": 1,
   "metadata": {},
   "outputs": [],
   "source": [
    "\n",
    "# Dependencies\n",
    "import requests\n",
    "import json\n",
    "import numpy as np\n",
    "import time\n",
    "import matplotlib.pyplot as plt\n",
    "from scipy.stats import linregress\n",
    "import pandas as pd\n",
    "from wconfig import apikey\n",
    "from citipy import citipy\n",
    "\n",
    "#Output File\n",
    "output_data_file = \"output_data/cities.csv\"\n",
    "\n",
    "# Range of latitudes and longitudes\n",
    "lat_range = (-90, 90)\n",
    "lng_range = (-180, 180)"
   ]
  },
  {
   "cell_type": "markdown",
   "metadata": {},
   "source": [
    "# Generate Cities List"
   ]
  },
  {
   "cell_type": "code",
   "execution_count": 2,
   "metadata": {},
   "outputs": [
    {
     "data": {
      "text/plain": [
       "647"
      ]
     },
     "execution_count": 2,
     "metadata": {},
     "output_type": "execute_result"
    }
   ],
   "source": [
    "# List for holding lat_lngs and cities\n",
    "lat_lngs = []\n",
    "cities = []\n",
    "\n",
    "\n",
    "# Create a set of random lat and lng combinations\n",
    "lats = np.random.uniform(lat_range[0], lat_range[1], size=1500)\n",
    "lngs = np.random.uniform(lng_range[0], lng_range[1], size=1500)\n",
    "lat_lngs = zip(lats, lngs)\n",
    "\n",
    "# Identify nearest city for each lat, lng combination\n",
    "for lat_lng in lat_lngs:\n",
    "    city = citipy.nearest_city(lat_lng[0], lat_lng[1]).city_name\n",
    "    \n",
    "    \n",
    "    # If the city is unique, then add it to a our cities list\n",
    "    if city not in cities:\n",
    "        cities.append(city)\n",
    "\n",
    "# Print the city count to confirm sufficient count\n",
    "len(cities)\n"
   ]
  },
  {
   "cell_type": "code",
   "execution_count": 31,
   "metadata": {
    "scrolled": true
   },
   "outputs": [
    {
     "name": "stdout",
     "output_type": "stream",
     "text": [
      "Processing | huai yot\n",
      "Processing | buala\n",
      "Processing | bluff\n",
      "Processing | codrington\n",
      "Processing | busselton\n",
      "Processing | port alfred\n",
      "Processing | teknaf\n",
      "Processing | dingle\n",
      "Processing | touros\n",
      "Processing | rikitea\n",
      "Processing | samusu\n",
      "Processing | tsihombe\n",
      "Processing | chuy\n",
      "Processing | vaini\n",
      "Processing | lebu\n",
      "Processing | avarua\n",
      "Processing | albany\n",
      "Processing | sobolevo\n",
      "Processing | mataura\n",
      "Processing | hargeysa\n"
     ]
    }
   ],
   "source": [
    " #Set up weathermap request\n",
    "# apikey = \"\"\n",
    "lats = []\n",
    "lngs = []\n",
    "max_temps = []\n",
    "humidities = []\n",
    "cloudiness = []\n",
    "wind_speeds = []\n",
    "countries = [] \n",
    "dates = []\n",
    "url = \"http://api.openweathermap.org/data/2.5/weather?units=Imperial&APPID=\" + apikey\n",
    "\n",
    "weather = []\n",
    "for city in cities[0:20]:\n",
    "#save website information\n",
    "\n",
    "    try:\n",
    "        weatherquery_url = url + \"&q=\" + city.replace(\" \",\"+\")\n",
    "\n",
    "        weather_response = requests.get(weatherquery_url).json()\n",
    "\n",
    "        print(f'Processing | {city}')\n",
    "        weather.append(weather_response)\n",
    "        lats.append(weather_response['coord']['lat'])\n",
    "        lngs.append(weather_response['coord']['lon'])\n",
    "        max_temps.append(weather_response['main']['temp_max'])\n",
    "        humidities.append(weather_response)\n",
    "        cloudiness.append(weather_response)\n",
    "        wind_speeds.append(weather_response)\n",
    "        countries.append(weather_response)\n",
    "        dates.append(weather_response)\n",
    "    except:\n",
    "        pass"
   ]
  },
  {
   "cell_type": "code",
   "execution_count": 26,
   "metadata": {},
   "outputs": [
    {
     "data": {
      "text/plain": [
       "{'coord': {'lon': 44.065, 'lat': 9.56},\n",
       " 'weather': [{'id': 502,\n",
       "   'main': 'Rain',\n",
       "   'description': 'heavy intensity rain',\n",
       "   'icon': '10n'}],\n",
       " 'base': 'stations',\n",
       " 'main': {'temp': 66.25,\n",
       "  'feels_like': 66.67,\n",
       "  'temp_min': 66.25,\n",
       "  'temp_max': 66.25,\n",
       "  'pressure': 1012,\n",
       "  'humidity': 87,\n",
       "  'sea_level': 1012,\n",
       "  'grnd_level': 875},\n",
       " 'visibility': 9609,\n",
       " 'wind': {'speed': 8.79, 'deg': 183, 'gust': 12.71},\n",
       " 'rain': {'1h': 4.52},\n",
       " 'clouds': {'all': 100},\n",
       " 'dt': 1619390766,\n",
       " 'sys': {'country': 'SO', 'sunrise': 1619405317, 'sunset': 1619450049},\n",
       " 'timezone': 10800,\n",
       " 'id': 57289,\n",
       " 'name': 'Hargeisa',\n",
       " 'cod': 200}"
      ]
     },
     "execution_count": 26,
     "metadata": {},
     "output_type": "execute_result"
    }
   ],
   "source": [
    "weather_response"
   ]
  },
  {
   "cell_type": "code",
   "execution_count": 34,
   "metadata": {},
   "outputs": [
    {
     "data": {
      "text/plain": [
       "[74.62,\n",
       " 84.79,\n",
       " 46.99,\n",
       " 58.37,\n",
       " 51.01,\n",
       " 70.56,\n",
       " 77.05,\n",
       " 79.39,\n",
       " 78.8,\n",
       " 78.24,\n",
       " 63.48,\n",
       " 80.6,\n",
       " 55.8,\n",
       " 82.4,\n",
       " 55,\n",
       " 30.38,\n",
       " 46.99,\n",
       " 66.25]"
      ]
     },
     "execution_count": 34,
     "metadata": {},
     "output_type": "execute_result"
    }
   ],
   "source": [
    "max_temps"
   ]
  },
  {
   "cell_type": "code",
   "execution_count": 5,
   "metadata": {},
   "outputs": [
    {
     "ename": "NameError",
     "evalue": "name 'weather_json' is not defined",
     "output_type": "error",
     "traceback": [
      "\u001b[1;31m---------------------------------------------------------------------------\u001b[0m",
      "\u001b[1;31mNameError\u001b[0m                                 Traceback (most recent call last)",
      "\u001b[1;32m<ipython-input-5-eebe90bcd575>\u001b[0m in \u001b[0;36m<module>\u001b[1;34m\u001b[0m\n\u001b[0;32m      1\u001b[0m \u001b[1;31m# # create a data frame from cities toe xport into .csv file\u001b[0m\u001b[1;33m\u001b[0m\u001b[1;33m\u001b[0m\u001b[1;33m\u001b[0m\u001b[0m\n\u001b[1;32m----> 2\u001b[1;33m \u001b[0mweather_data_pd\u001b[0m \u001b[1;33m=\u001b[0m \u001b[0mpd\u001b[0m\u001b[1;33m.\u001b[0m\u001b[0mDataFrame\u001b[0m\u001b[1;33m(\u001b[0m\u001b[0mweather_json\u001b[0m\u001b[1;33m)\u001b[0m\u001b[1;33m\u001b[0m\u001b[1;33m\u001b[0m\u001b[0m\n\u001b[0m\u001b[0;32m      3\u001b[0m \u001b[1;33m\u001b[0m\u001b[0m\n\u001b[0;32m      4\u001b[0m \u001b[1;31m# Create the output File (CSV)\u001b[0m\u001b[1;33m\u001b[0m\u001b[1;33m\u001b[0m\u001b[1;33m\u001b[0m\u001b[0m\n\u001b[0;32m      5\u001b[0m \u001b[0moutput_data_file\u001b[0m \u001b[1;33m=\u001b[0m \u001b[1;34m\"../WeatherPY/WeatherPy_Database.csv\"\u001b[0m\u001b[1;33m\u001b[0m\u001b[1;33m\u001b[0m\u001b[0m\n",
      "\u001b[1;31mNameError\u001b[0m: name 'weather_json' is not defined"
     ]
    }
   ],
   "source": [
    "# # create a data frame from cities toe xport into .csv file\n",
    "weather_df = pd.DataFrame({\n",
    "    \"Latitudes\":lats,\n",
    "    \"Longitudes\":lngs\n",
    "    \n",
    "})\n",
    " \n",
    "# Create the output File (CSV)\n",
    "output_data_file = \"../WeatherPY/WeatherPy_Database.csv\"\n",
    "\n",
    "# Export the city_data into a csv\n",
    "weather_df.to_csv(output_data_file, index_label=\"City_ID\")\n"
   ]
  },
  {
   "cell_type": "code",
   "execution_count": null,
   "metadata": {},
   "outputs": [],
   "source": [
    "weather_data_pd.head()"
   ]
  }
 ],
 "metadata": {
  "kernelspec": {
   "display_name": "Python 3",
   "language": "python",
   "name": "python3"
  },
  "language_info": {
   "codemirror_mode": {
    "name": "ipython",
    "version": 3
   },
   "file_extension": ".py",
   "mimetype": "text/x-python",
   "name": "python",
   "nbconvert_exporter": "python",
   "pygments_lexer": "ipython3",
   "version": "3.8.5"
  }
 },
 "nbformat": 4,
 "nbformat_minor": 4
}
